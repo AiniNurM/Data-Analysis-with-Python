{
 "cells": [
  {
   "cell_type": "code",
   "execution_count": 25,
   "id": "025974b0-7d8d-4624-bacc-bdb3dffc0579",
   "metadata": {},
   "outputs": [],
   "source": [
    "# 1 Load Data"
   ]
  },
  {
   "cell_type": "code",
   "execution_count": 1,
   "id": "292d174d-922a-4427-ae42-c6214183dbc2",
   "metadata": {},
   "outputs": [],
   "source": [
    "import pandas as pd\n",
    "import numpy as np\n",
    "import seaborn as sns\n",
    "import matplotlib.pyplot as plt\n",
    "import os"
   ]
  },
  {
   "cell_type": "code",
   "execution_count": 2,
   "id": "00d172ee-3054-49fa-bbcc-9b74df1bb3f7",
   "metadata": {},
   "outputs": [
    {
     "name": "stdout",
     "output_type": "stream",
     "text": [
      "True\n"
     ]
    }
   ],
   "source": [
    "path = r\"C:\\Users\\Nur Aini Mahfud\\Downloads\\Online Retail Data.xlsx\"\n",
    "print(os.path.exists(path))"
   ]
  },
  {
   "cell_type": "code",
   "execution_count": 3,
   "id": "86ecb410-7ad4-485e-8d70-d584b9c6626d",
   "metadata": {},
   "outputs": [
    {
     "name": "stdout",
     "output_type": "stream",
     "text": [
      "  order_id product_code                     product_name  quantity  \\\n",
      "0   493410      TEST001          This is a test product.         5   \n",
      "1  C493411        21539          RETRO SPOTS BUTTER DISH        -1   \n",
      "2   493412      TEST001          This is a test product.         5   \n",
      "3   493413        21724  PANDA AND BUNNIES STICKER SHEET         1   \n",
      "4   493413        84578   ELEPHANT TOY WITH BLUE T-SHIRT         1   \n",
      "\n",
      "           order_date  price  customer_id  \n",
      "0 2010-01-04 09:24:00   4.50      12346.0  \n",
      "1 2010-01-04 09:43:00   4.25      14590.0  \n",
      "2 2010-01-04 09:53:00   4.50      12346.0  \n",
      "3 2010-01-04 09:54:00   0.85          NaN  \n",
      "4 2010-01-04 09:54:00   3.75          NaN  \n"
     ]
    }
   ],
   "source": [
    "path = r\"C:\\Users\\Nur Aini Mahfud\\Downloads\\Online Retail Data.xlsx\"\n",
    "df = pd.read_excel(path, engine=\"openpyxl\")\n",
    "print(df.head())"
   ]
  },
  {
   "cell_type": "code",
   "execution_count": 64,
   "id": "628e13f1-863d-4ac5-b8a0-49ba2bb3f2d4",
   "metadata": {},
   "outputs": [],
   "source": [
    "# 2 Cleaning Data"
   ]
  },
  {
   "cell_type": "code",
   "execution_count": 5,
   "id": "cbed2aa1-4845-4637-82c3-5a4bb26d5084",
   "metadata": {},
   "outputs": [
    {
     "name": "stdout",
     "output_type": "stream",
     "text": [
      "Jumlah product name kosong: 2718\n"
     ]
    },
    {
     "data": {
      "text/html": [
       "<div>\n",
       "<style scoped>\n",
       "    .dataframe tbody tr th:only-of-type {\n",
       "        vertical-align: middle;\n",
       "    }\n",
       "\n",
       "    .dataframe tbody tr th {\n",
       "        vertical-align: top;\n",
       "    }\n",
       "\n",
       "    .dataframe thead th {\n",
       "        text-align: right;\n",
       "    }\n",
       "</style>\n",
       "<table border=\"1\" class=\"dataframe\">\n",
       "  <thead>\n",
       "    <tr style=\"text-align: right;\">\n",
       "      <th></th>\n",
       "      <th>order_id</th>\n",
       "      <th>product_code</th>\n",
       "      <th>product_name</th>\n",
       "      <th>quantity</th>\n",
       "      <th>order_date</th>\n",
       "      <th>price</th>\n",
       "      <th>customer_id</th>\n",
       "    </tr>\n",
       "  </thead>\n",
       "  <tbody>\n",
       "    <tr>\n",
       "      <th>481</th>\n",
       "      <td>493494</td>\n",
       "      <td>21231</td>\n",
       "      <td>NaN</td>\n",
       "      <td>-84</td>\n",
       "      <td>2010-01-04 14:56:00</td>\n",
       "      <td>0.0</td>\n",
       "      <td>NaN</td>\n",
       "    </tr>\n",
       "    <tr>\n",
       "      <th>482</th>\n",
       "      <td>493508</td>\n",
       "      <td>20887</td>\n",
       "      <td>NaN</td>\n",
       "      <td>9</td>\n",
       "      <td>2010-01-04 15:08:00</td>\n",
       "      <td>0.0</td>\n",
       "      <td>NaN</td>\n",
       "    </tr>\n",
       "    <tr>\n",
       "      <th>483</th>\n",
       "      <td>493510</td>\n",
       "      <td>40046C</td>\n",
       "      <td>NaN</td>\n",
       "      <td>7</td>\n",
       "      <td>2010-01-04 15:08:00</td>\n",
       "      <td>0.0</td>\n",
       "      <td>NaN</td>\n",
       "    </tr>\n",
       "    <tr>\n",
       "      <th>484</th>\n",
       "      <td>493509</td>\n",
       "      <td>21558</td>\n",
       "      <td>NaN</td>\n",
       "      <td>7</td>\n",
       "      <td>2010-01-04 15:08:00</td>\n",
       "      <td>0.0</td>\n",
       "      <td>NaN</td>\n",
       "    </tr>\n",
       "    <tr>\n",
       "      <th>485</th>\n",
       "      <td>493513</td>\n",
       "      <td>47009</td>\n",
       "      <td>NaN</td>\n",
       "      <td>3</td>\n",
       "      <td>2010-01-04 15:09:00</td>\n",
       "      <td>0.0</td>\n",
       "      <td>NaN</td>\n",
       "    </tr>\n",
       "  </tbody>\n",
       "</table>\n",
       "</div>"
      ],
      "text/plain": [
       "    order_id product_code product_name  quantity          order_date  price  \\\n",
       "481   493494        21231          NaN       -84 2010-01-04 14:56:00    0.0   \n",
       "482   493508        20887          NaN         9 2010-01-04 15:08:00    0.0   \n",
       "483   493510       40046C          NaN         7 2010-01-04 15:08:00    0.0   \n",
       "484   493509        21558          NaN         7 2010-01-04 15:08:00    0.0   \n",
       "485   493513        47009          NaN         3 2010-01-04 15:09:00    0.0   \n",
       "\n",
       "     customer_id  \n",
       "481          NaN  \n",
       "482          NaN  \n",
       "483          NaN  \n",
       "484          NaN  \n",
       "485          NaN  "
      ]
     },
     "execution_count": 5,
     "metadata": {},
     "output_type": "execute_result"
    }
   ],
   "source": [
    "empty_products = df[df['product_name'].isna()]\n",
    "print(\"Jumlah product name kosong:\", empty_products.shape[0])\n",
    "empty_products.head()"
   ]
  },
  {
   "cell_type": "code",
   "execution_count": 6,
   "id": "bf53ec20-9d0b-4e1f-967f-86299c70064b",
   "metadata": {},
   "outputs": [
    {
     "name": "stdout",
     "output_type": "stream",
     "text": [
      "Jumlah 'Unknown Product': 2718\n",
      "    order_id product_code     product_name  quantity          order_date  \\\n",
      "481   493494        21231  Unknown Product       -84 2010-01-04 14:56:00   \n",
      "482   493508        20887  Unknown Product         9 2010-01-04 15:08:00   \n",
      "483   493510       40046C  Unknown Product         7 2010-01-04 15:08:00   \n",
      "484   493509        21558  Unknown Product         7 2010-01-04 15:08:00   \n",
      "485   493513        47009  Unknown Product         3 2010-01-04 15:09:00   \n",
      "\n",
      "     price  customer_id  \n",
      "481    0.0          NaN  \n",
      "482    0.0          NaN  \n",
      "483    0.0          NaN  \n",
      "484    0.0          NaN  \n",
      "485    0.0          NaN  \n"
     ]
    }
   ],
   "source": [
    "df['product_name'] = df['product_name'].fillna(\"Unknown Product\")\n",
    "print(\"Jumlah 'Unknown Product':\", (df['product_name'] == \"Unknown Product\").sum())\n",
    "print(df[df['product_name'] == \"Unknown Product\"].head())"
   ]
  },
  {
   "cell_type": "code",
   "execution_count": 7,
   "id": "f56f1675-4bd1-4f6c-9b59-116f34716abc",
   "metadata": {},
   "outputs": [
    {
     "name": "stdout",
     "output_type": "stream",
     "text": [
      "Jumlah nilai kosong per kolom:\n",
      "order_id             0\n",
      "product_code         0\n",
      "product_name         0\n",
      "quantity             0\n",
      "order_date           0\n",
      "price                0\n",
      "customer_id     100920\n",
      "dtype: int64\n"
     ]
    }
   ],
   "source": [
    "print(\"Jumlah nilai kosong per kolom:\")\n",
    "print(df.isnull().sum())"
   ]
  },
  {
   "cell_type": "code",
   "execution_count": 8,
   "id": "56747f7b-1579-4de2-9689-9bdcdeb8baa4",
   "metadata": {},
   "outputs": [
    {
     "name": "stdout",
     "output_type": "stream",
     "text": [
      "Jumlah Customer ID kosong (NaN): 0\n",
      "Jumlah Customer ID = 'Unknown Customer': 100920\n",
      "    order_id product_code                         product_name  quantity  \\\n",
      "3     493413        21724      PANDA AND BUNNIES STICKER SHEET         1   \n",
      "4     493413        84578       ELEPHANT TOY WITH BLUE T-SHIRT         1   \n",
      "5     493413        21723        ALPHABET HEARTS STICKER SHEET         1   \n",
      "477   493485        72008  FROSTED BOX 9 WHITE T-LIGHT CANDLES        24   \n",
      "478   493485        21589           SWALLOW GIANT TUBE MATCHES         2   \n",
      "\n",
      "             order_date  price       customer_id  \n",
      "3   2010-01-04 09:54:00   0.85  Unknown Customer  \n",
      "4   2010-01-04 09:54:00   3.75  Unknown Customer  \n",
      "5   2010-01-04 09:54:00   0.85  Unknown Customer  \n",
      "477 2010-01-04 14:48:00   0.42  Unknown Customer  \n",
      "478 2010-01-04 14:48:00   2.55  Unknown Customer  \n"
     ]
    }
   ],
   "source": [
    "df['customer_id'] = df['customer_id'].fillna(\"Unknown Customer\")\n",
    "print(\"Jumlah Customer ID kosong (NaN):\", df['customer_id'].isnull().sum())\n",
    "print(\"Jumlah Customer ID = 'Unknown Customer':\", (df['customer_id'] == \"Unknown Customer\").sum())\n",
    "print(df[df['customer_id'] == \"Unknown Customer\"].head())"
   ]
  },
  {
   "cell_type": "code",
   "execution_count": 9,
   "id": "4bc17103-881b-43f1-aefc-1efa0d9dc682",
   "metadata": {},
   "outputs": [
    {
     "name": "stdout",
     "output_type": "stream",
     "text": [
      "Jumlah nilai kosong per kolom:\n",
      "order_id        0\n",
      "product_code    0\n",
      "product_name    0\n",
      "quantity        0\n",
      "order_date      0\n",
      "price           0\n",
      "customer_id     0\n",
      "dtype: int64\n"
     ]
    }
   ],
   "source": [
    "print(\"Jumlah nilai kosong per kolom:\")\n",
    "print(df.isnull().sum())"
   ]
  },
  {
   "cell_type": "code",
   "execution_count": 10,
   "id": "ddb67a64-32ec-4e16-89e3-6df39cf5f776",
   "metadata": {},
   "outputs": [],
   "source": [
    "df['order_date'] = pd.to_datetime(df['order_date'])"
   ]
  },
  {
   "cell_type": "code",
   "execution_count": 11,
   "id": "1bdfe8a6-4d57-4cd2-98a9-482efbdbd0e1",
   "metadata": {},
   "outputs": [
    {
     "name": "stdout",
     "output_type": "stream",
     "text": [
      "  order_id product_code                     product_name  quantity  \\\n",
      "0   493410      TEST001          This is a test product.         5   \n",
      "1  C493411        21539          RETRO SPOTS BUTTER DISH        -1   \n",
      "2   493412      TEST001          This is a test product.         5   \n",
      "3   493413        21724  PANDA AND BUNNIES STICKER SHEET         1   \n",
      "4   493413        84578   ELEPHANT TOY WITH BLUE T-SHIRT         1   \n",
      "\n",
      "           order_date  price       customer_id  \n",
      "0 2010-01-04 09:24:00   4.50           12346.0  \n",
      "1 2010-01-04 09:43:00   4.25           14590.0  \n",
      "2 2010-01-04 09:53:00   4.50           12346.0  \n",
      "3 2010-01-04 09:54:00   0.85  Unknown Customer  \n",
      "4 2010-01-04 09:54:00   3.75  Unknown Customer  \n"
     ]
    }
   ],
   "source": [
    "print(df.head())"
   ]
  },
  {
   "cell_type": "code",
   "execution_count": 12,
   "id": "1cb78192-85a5-4dac-b683-be7e8d1b4ff5",
   "metadata": {},
   "outputs": [
    {
     "name": "stdout",
     "output_type": "stream",
     "text": [
      "order_id                object\n",
      "product_code            object\n",
      "product_name            object\n",
      "quantity                 int64\n",
      "order_date      datetime64[ns]\n",
      "price                  float64\n",
      "customer_id             object\n",
      "dtype: object\n"
     ]
    }
   ],
   "source": [
    "print(df.dtypes)"
   ]
  },
  {
   "cell_type": "code",
   "execution_count": 13,
   "id": "58fef644-9720-42c4-b6be-ecf7d2b83482",
   "metadata": {},
   "outputs": [
    {
     "name": "stdout",
     "output_type": "stream",
     "text": [
      "Jumlah Duplikat: 6479\n"
     ]
    }
   ],
   "source": [
    "print(\"Jumlah Duplikat:\", df.duplicated().sum())"
   ]
  },
  {
   "cell_type": "code",
   "execution_count": 14,
   "id": "ec6e2ae4-7d33-4576-82d9-d970c7f4d3cb",
   "metadata": {},
   "outputs": [
    {
     "name": "stdout",
     "output_type": "stream",
     "text": [
      "Jumlah baris duplikat: 12527\n"
     ]
    },
    {
     "data": {
      "text/html": [
       "<div>\n",
       "<style scoped>\n",
       "    .dataframe tbody tr th:only-of-type {\n",
       "        vertical-align: middle;\n",
       "    }\n",
       "\n",
       "    .dataframe tbody tr th {\n",
       "        vertical-align: top;\n",
       "    }\n",
       "\n",
       "    .dataframe thead th {\n",
       "        text-align: right;\n",
       "    }\n",
       "</style>\n",
       "<table border=\"1\" class=\"dataframe\">\n",
       "  <thead>\n",
       "    <tr style=\"text-align: right;\">\n",
       "      <th></th>\n",
       "      <th>order_id</th>\n",
       "      <th>product_code</th>\n",
       "      <th>product_name</th>\n",
       "      <th>quantity</th>\n",
       "      <th>order_date</th>\n",
       "      <th>price</th>\n",
       "      <th>customer_id</th>\n",
       "    </tr>\n",
       "  </thead>\n",
       "  <tbody>\n",
       "    <tr>\n",
       "      <th>160</th>\n",
       "      <td>493435</td>\n",
       "      <td>21678</td>\n",
       "      <td>PAISLEY PATTERN  STICKERS</td>\n",
       "      <td>2</td>\n",
       "      <td>2010-01-04 12:57:00</td>\n",
       "      <td>0.85</td>\n",
       "      <td>13206.0</td>\n",
       "    </tr>\n",
       "    <tr>\n",
       "      <th>173</th>\n",
       "      <td>493435</td>\n",
       "      <td>21678</td>\n",
       "      <td>PAISLEY PATTERN  STICKERS</td>\n",
       "      <td>2</td>\n",
       "      <td>2010-01-04 12:57:00</td>\n",
       "      <td>0.85</td>\n",
       "      <td>13206.0</td>\n",
       "    </tr>\n",
       "    <tr>\n",
       "      <th>254</th>\n",
       "      <td>493442</td>\n",
       "      <td>20751</td>\n",
       "      <td>FUNKY WASHING UP GLOVES ASSORTED</td>\n",
       "      <td>1</td>\n",
       "      <td>2010-01-04 13:36:00</td>\n",
       "      <td>2.10</td>\n",
       "      <td>13821.0</td>\n",
       "    </tr>\n",
       "    <tr>\n",
       "      <th>255</th>\n",
       "      <td>493442</td>\n",
       "      <td>20751</td>\n",
       "      <td>FUNKY WASHING UP GLOVES ASSORTED</td>\n",
       "      <td>1</td>\n",
       "      <td>2010-01-04 13:36:00</td>\n",
       "      <td>2.10</td>\n",
       "      <td>13821.0</td>\n",
       "    </tr>\n",
       "    <tr>\n",
       "      <th>264</th>\n",
       "      <td>493442</td>\n",
       "      <td>20712</td>\n",
       "      <td>JUMBO BAG WOODLAND ANIMALS</td>\n",
       "      <td>1</td>\n",
       "      <td>2010-01-04 13:36:00</td>\n",
       "      <td>1.95</td>\n",
       "      <td>13821.0</td>\n",
       "    </tr>\n",
       "  </tbody>\n",
       "</table>\n",
       "</div>"
      ],
      "text/plain": [
       "    order_id product_code                      product_name  quantity  \\\n",
       "160   493435        21678         PAISLEY PATTERN  STICKERS         2   \n",
       "173   493435        21678         PAISLEY PATTERN  STICKERS         2   \n",
       "254   493442        20751  FUNKY WASHING UP GLOVES ASSORTED         1   \n",
       "255   493442        20751  FUNKY WASHING UP GLOVES ASSORTED         1   \n",
       "264   493442        20712        JUMBO BAG WOODLAND ANIMALS         1   \n",
       "\n",
       "             order_date  price customer_id  \n",
       "160 2010-01-04 12:57:00   0.85     13206.0  \n",
       "173 2010-01-04 12:57:00   0.85     13206.0  \n",
       "254 2010-01-04 13:36:00   2.10     13821.0  \n",
       "255 2010-01-04 13:36:00   2.10     13821.0  \n",
       "264 2010-01-04 13:36:00   1.95     13821.0  "
      ]
     },
     "execution_count": 14,
     "metadata": {},
     "output_type": "execute_result"
    }
   ],
   "source": [
    "duplicates = df[df.duplicated(keep=False)]\n",
    "\n",
    "print(\"Jumlah baris duplikat:\", duplicates.shape[0])\n",
    "duplicates.head()"
   ]
  },
  {
   "cell_type": "code",
   "execution_count": 15,
   "id": "83709d83-fa68-4fd9-8e8d-78bad9341c40",
   "metadata": {},
   "outputs": [
    {
     "name": "stdout",
     "output_type": "stream",
     "text": [
      "Jumlah baris setelah hapus duplikat: 455294\n"
     ]
    }
   ],
   "source": [
    "df = df.drop_duplicates(keep='first')\n",
    "\n",
    "print(\"Jumlah baris setelah hapus duplikat:\", len(df))"
   ]
  },
  {
   "cell_type": "code",
   "execution_count": 16,
   "id": "71e8ecb5-3925-4860-accd-9c192beacf56",
   "metadata": {},
   "outputs": [
    {
     "name": "stdout",
     "output_type": "stream",
     "text": [
      "Jumlah Duplikat: 0\n"
     ]
    }
   ],
   "source": [
    "print(\"Jumlah Duplikat:\", df.duplicated().sum())"
   ]
  },
  {
   "cell_type": "code",
   "execution_count": 17,
   "id": "b4f83655-3e3b-497e-9053-cf180042d592",
   "metadata": {},
   "outputs": [],
   "source": [
    "df = df[(df['quantity']>0) & (df['price']>0)]"
   ]
  },
  {
   "cell_type": "code",
   "execution_count": 18,
   "id": "70ba9a51-3097-434f-bf3b-6426a2b60481",
   "metadata": {},
   "outputs": [
    {
     "name": "stdout",
     "output_type": "stream",
     "text": [
      "  order_id product_code                     product_name  quantity  \\\n",
      "0   493410      TEST001          This is a test product.         5   \n",
      "2   493412      TEST001          This is a test product.         5   \n",
      "3   493413        21724  PANDA AND BUNNIES STICKER SHEET         1   \n",
      "4   493413        84578   ELEPHANT TOY WITH BLUE T-SHIRT         1   \n",
      "5   493413        21723    ALPHABET HEARTS STICKER SHEET         1   \n",
      "\n",
      "           order_date  price       customer_id  revenue  \n",
      "0 2010-01-04 09:24:00   4.50           12346.0    22.50  \n",
      "2 2010-01-04 09:53:00   4.50           12346.0    22.50  \n",
      "3 2010-01-04 09:54:00   0.85  Unknown Customer     0.85  \n",
      "4 2010-01-04 09:54:00   3.75  Unknown Customer     3.75  \n",
      "5 2010-01-04 09:54:00   0.85  Unknown Customer     0.85  \n"
     ]
    }
   ],
   "source": [
    "df['revenue'] = df['quantity'] * df['price']\n",
    "print(df.head()) "
   ]
  },
  {
   "cell_type": "code",
   "execution_count": 19,
   "id": "0a4d02fa-5a29-4aa3-ac48-bd37083211d5",
   "metadata": {},
   "outputs": [
    {
     "data": {
      "text/html": [
       "<div>\n",
       "<style scoped>\n",
       "    .dataframe tbody tr th:only-of-type {\n",
       "        vertical-align: middle;\n",
       "    }\n",
       "\n",
       "    .dataframe tbody tr th {\n",
       "        vertical-align: top;\n",
       "    }\n",
       "\n",
       "    .dataframe thead th {\n",
       "        text-align: right;\n",
       "    }\n",
       "</style>\n",
       "<table border=\"1\" class=\"dataframe\">\n",
       "  <thead>\n",
       "    <tr style=\"text-align: right;\">\n",
       "      <th></th>\n",
       "      <th>quantity</th>\n",
       "      <th>order_date</th>\n",
       "      <th>price</th>\n",
       "      <th>revenue</th>\n",
       "    </tr>\n",
       "  </thead>\n",
       "  <tbody>\n",
       "    <tr>\n",
       "      <th>count</th>\n",
       "      <td>443560.000000</td>\n",
       "      <td>443560</td>\n",
       "      <td>443560.000000</td>\n",
       "      <td>443560.000000</td>\n",
       "    </tr>\n",
       "    <tr>\n",
       "      <th>mean</th>\n",
       "      <td>10.071826</td>\n",
       "      <td>2010-07-23 16:31:09.984083200</td>\n",
       "      <td>4.232654</td>\n",
       "      <td>18.954618</td>\n",
       "    </tr>\n",
       "    <tr>\n",
       "      <th>min</th>\n",
       "      <td>1.000000</td>\n",
       "      <td>2010-01-04 09:24:00</td>\n",
       "      <td>0.001000</td>\n",
       "      <td>0.001000</td>\n",
       "    </tr>\n",
       "    <tr>\n",
       "      <th>25%</th>\n",
       "      <td>1.000000</td>\n",
       "      <td>2010-04-22 14:33:00</td>\n",
       "      <td>1.250000</td>\n",
       "      <td>3.750000</td>\n",
       "    </tr>\n",
       "    <tr>\n",
       "      <th>50%</th>\n",
       "      <td>3.000000</td>\n",
       "      <td>2010-08-05 10:44:00</td>\n",
       "      <td>2.100000</td>\n",
       "      <td>9.900000</td>\n",
       "    </tr>\n",
       "    <tr>\n",
       "      <th>75%</th>\n",
       "      <td>10.000000</td>\n",
       "      <td>2010-10-31 10:49:00</td>\n",
       "      <td>4.210000</td>\n",
       "      <td>17.400000</td>\n",
       "    </tr>\n",
       "    <tr>\n",
       "      <th>max</th>\n",
       "      <td>10000.000000</td>\n",
       "      <td>2010-12-23 17:41:00</td>\n",
       "      <td>25111.090000</td>\n",
       "      <td>25111.090000</td>\n",
       "    </tr>\n",
       "    <tr>\n",
       "      <th>std</th>\n",
       "      <td>60.090739</td>\n",
       "      <td>NaN</td>\n",
       "      <td>65.619622</td>\n",
       "      <td>92.055898</td>\n",
       "    </tr>\n",
       "  </tbody>\n",
       "</table>\n",
       "</div>"
      ],
      "text/plain": [
       "            quantity                     order_date          price  \\\n",
       "count  443560.000000                         443560  443560.000000   \n",
       "mean       10.071826  2010-07-23 16:31:09.984083200       4.232654   \n",
       "min         1.000000            2010-01-04 09:24:00       0.001000   \n",
       "25%         1.000000            2010-04-22 14:33:00       1.250000   \n",
       "50%         3.000000            2010-08-05 10:44:00       2.100000   \n",
       "75%        10.000000            2010-10-31 10:49:00       4.210000   \n",
       "max     10000.000000            2010-12-23 17:41:00   25111.090000   \n",
       "std        60.090739                            NaN      65.619622   \n",
       "\n",
       "             revenue  \n",
       "count  443560.000000  \n",
       "mean       18.954618  \n",
       "min         0.001000  \n",
       "25%         3.750000  \n",
       "50%         9.900000  \n",
       "75%        17.400000  \n",
       "max     25111.090000  \n",
       "std        92.055898  "
      ]
     },
     "execution_count": 19,
     "metadata": {},
     "output_type": "execute_result"
    }
   ],
   "source": [
    "df.describe()"
   ]
  },
  {
   "cell_type": "code",
   "execution_count": 20,
   "id": "35f1f0a1-a585-41c6-99cb-f1779c7c919a",
   "metadata": {},
   "outputs": [
    {
     "name": "stdout",
     "output_type": "stream",
     "text": [
      "Dataset Final: (443560, 8)\n"
     ]
    },
    {
     "data": {
      "text/html": [
       "<div>\n",
       "<style scoped>\n",
       "    .dataframe tbody tr th:only-of-type {\n",
       "        vertical-align: middle;\n",
       "    }\n",
       "\n",
       "    .dataframe tbody tr th {\n",
       "        vertical-align: top;\n",
       "    }\n",
       "\n",
       "    .dataframe thead th {\n",
       "        text-align: right;\n",
       "    }\n",
       "</style>\n",
       "<table border=\"1\" class=\"dataframe\">\n",
       "  <thead>\n",
       "    <tr style=\"text-align: right;\">\n",
       "      <th></th>\n",
       "      <th>order_id</th>\n",
       "      <th>product_code</th>\n",
       "      <th>product_name</th>\n",
       "      <th>quantity</th>\n",
       "      <th>order_date</th>\n",
       "      <th>price</th>\n",
       "      <th>customer_id</th>\n",
       "      <th>revenue</th>\n",
       "    </tr>\n",
       "  </thead>\n",
       "  <tbody>\n",
       "    <tr>\n",
       "      <th>0</th>\n",
       "      <td>493410</td>\n",
       "      <td>TEST001</td>\n",
       "      <td>This is a test product.</td>\n",
       "      <td>5</td>\n",
       "      <td>2010-01-04 09:24:00</td>\n",
       "      <td>4.50</td>\n",
       "      <td>12346.0</td>\n",
       "      <td>22.50</td>\n",
       "    </tr>\n",
       "    <tr>\n",
       "      <th>2</th>\n",
       "      <td>493412</td>\n",
       "      <td>TEST001</td>\n",
       "      <td>This is a test product.</td>\n",
       "      <td>5</td>\n",
       "      <td>2010-01-04 09:53:00</td>\n",
       "      <td>4.50</td>\n",
       "      <td>12346.0</td>\n",
       "      <td>22.50</td>\n",
       "    </tr>\n",
       "    <tr>\n",
       "      <th>3</th>\n",
       "      <td>493413</td>\n",
       "      <td>21724</td>\n",
       "      <td>PANDA AND BUNNIES STICKER SHEET</td>\n",
       "      <td>1</td>\n",
       "      <td>2010-01-04 09:54:00</td>\n",
       "      <td>0.85</td>\n",
       "      <td>Unknown Customer</td>\n",
       "      <td>0.85</td>\n",
       "    </tr>\n",
       "    <tr>\n",
       "      <th>4</th>\n",
       "      <td>493413</td>\n",
       "      <td>84578</td>\n",
       "      <td>ELEPHANT TOY WITH BLUE T-SHIRT</td>\n",
       "      <td>1</td>\n",
       "      <td>2010-01-04 09:54:00</td>\n",
       "      <td>3.75</td>\n",
       "      <td>Unknown Customer</td>\n",
       "      <td>3.75</td>\n",
       "    </tr>\n",
       "    <tr>\n",
       "      <th>5</th>\n",
       "      <td>493413</td>\n",
       "      <td>21723</td>\n",
       "      <td>ALPHABET HEARTS STICKER SHEET</td>\n",
       "      <td>1</td>\n",
       "      <td>2010-01-04 09:54:00</td>\n",
       "      <td>0.85</td>\n",
       "      <td>Unknown Customer</td>\n",
       "      <td>0.85</td>\n",
       "    </tr>\n",
       "  </tbody>\n",
       "</table>\n",
       "</div>"
      ],
      "text/plain": [
       "  order_id product_code                     product_name  quantity  \\\n",
       "0   493410      TEST001          This is a test product.         5   \n",
       "2   493412      TEST001          This is a test product.         5   \n",
       "3   493413        21724  PANDA AND BUNNIES STICKER SHEET         1   \n",
       "4   493413        84578   ELEPHANT TOY WITH BLUE T-SHIRT         1   \n",
       "5   493413        21723    ALPHABET HEARTS STICKER SHEET         1   \n",
       "\n",
       "           order_date  price       customer_id  revenue  \n",
       "0 2010-01-04 09:24:00   4.50           12346.0    22.50  \n",
       "2 2010-01-04 09:53:00   4.50           12346.0    22.50  \n",
       "3 2010-01-04 09:54:00   0.85  Unknown Customer     0.85  \n",
       "4 2010-01-04 09:54:00   3.75  Unknown Customer     3.75  \n",
       "5 2010-01-04 09:54:00   0.85  Unknown Customer     0.85  "
      ]
     },
     "execution_count": 20,
     "metadata": {},
     "output_type": "execute_result"
    }
   ],
   "source": [
    "print(\"Dataset Final:\", df.shape)\n",
    "df.head()"
   ]
  },
  {
   "cell_type": "code",
   "execution_count": 21,
   "id": "97e7b413-36f2-45a5-a7d6-d16d55b85062",
   "metadata": {},
   "outputs": [
    {
     "data": {
      "text/html": [
       "<div>\n",
       "<style scoped>\n",
       "    .dataframe tbody tr th:only-of-type {\n",
       "        vertical-align: middle;\n",
       "    }\n",
       "\n",
       "    .dataframe tbody tr th {\n",
       "        vertical-align: top;\n",
       "    }\n",
       "\n",
       "    .dataframe thead th {\n",
       "        text-align: right;\n",
       "    }\n",
       "</style>\n",
       "<table border=\"1\" class=\"dataframe\">\n",
       "  <thead>\n",
       "    <tr style=\"text-align: right;\">\n",
       "      <th></th>\n",
       "      <th>order_id</th>\n",
       "      <th>product_code</th>\n",
       "      <th>product_name</th>\n",
       "      <th>quantity</th>\n",
       "      <th>order_date</th>\n",
       "      <th>price</th>\n",
       "      <th>customer_id</th>\n",
       "      <th>revenue</th>\n",
       "    </tr>\n",
       "  </thead>\n",
       "  <tbody>\n",
       "    <tr>\n",
       "      <th>461768</th>\n",
       "      <td>539991</td>\n",
       "      <td>21618</td>\n",
       "      <td>4 WILDFLOWER BOTANICAL CANDLES</td>\n",
       "      <td>1</td>\n",
       "      <td>2010-12-23 16:49:00</td>\n",
       "      <td>1.25</td>\n",
       "      <td>Unknown Customer</td>\n",
       "      <td>1.25</td>\n",
       "    </tr>\n",
       "    <tr>\n",
       "      <th>461769</th>\n",
       "      <td>539991</td>\n",
       "      <td>72741</td>\n",
       "      <td>GRAND CHOCOLATECANDLE</td>\n",
       "      <td>4</td>\n",
       "      <td>2010-12-23 16:49:00</td>\n",
       "      <td>1.45</td>\n",
       "      <td>Unknown Customer</td>\n",
       "      <td>5.80</td>\n",
       "    </tr>\n",
       "    <tr>\n",
       "      <th>461770</th>\n",
       "      <td>539992</td>\n",
       "      <td>21470</td>\n",
       "      <td>FLOWER VINE RAFFIA FOOD COVER</td>\n",
       "      <td>1</td>\n",
       "      <td>2010-12-23 17:41:00</td>\n",
       "      <td>3.75</td>\n",
       "      <td>Unknown Customer</td>\n",
       "      <td>3.75</td>\n",
       "    </tr>\n",
       "    <tr>\n",
       "      <th>461771</th>\n",
       "      <td>539992</td>\n",
       "      <td>22258</td>\n",
       "      <td>FELT FARM ANIMAL RABBIT</td>\n",
       "      <td>1</td>\n",
       "      <td>2010-12-23 17:41:00</td>\n",
       "      <td>1.25</td>\n",
       "      <td>Unknown Customer</td>\n",
       "      <td>1.25</td>\n",
       "    </tr>\n",
       "    <tr>\n",
       "      <th>461772</th>\n",
       "      <td>539992</td>\n",
       "      <td>21155</td>\n",
       "      <td>RED RETROSPOT PEG BAG</td>\n",
       "      <td>1</td>\n",
       "      <td>2010-12-23 17:41:00</td>\n",
       "      <td>2.10</td>\n",
       "      <td>Unknown Customer</td>\n",
       "      <td>2.10</td>\n",
       "    </tr>\n",
       "  </tbody>\n",
       "</table>\n",
       "</div>"
      ],
      "text/plain": [
       "       order_id product_code                    product_name  quantity  \\\n",
       "461768   539991        21618  4 WILDFLOWER BOTANICAL CANDLES         1   \n",
       "461769   539991        72741           GRAND CHOCOLATECANDLE         4   \n",
       "461770   539992        21470   FLOWER VINE RAFFIA FOOD COVER         1   \n",
       "461771   539992        22258         FELT FARM ANIMAL RABBIT         1   \n",
       "461772   539992        21155           RED RETROSPOT PEG BAG         1   \n",
       "\n",
       "                order_date  price       customer_id  revenue  \n",
       "461768 2010-12-23 16:49:00   1.25  Unknown Customer     1.25  \n",
       "461769 2010-12-23 16:49:00   1.45  Unknown Customer     5.80  \n",
       "461770 2010-12-23 17:41:00   3.75  Unknown Customer     3.75  \n",
       "461771 2010-12-23 17:41:00   1.25  Unknown Customer     1.25  \n",
       "461772 2010-12-23 17:41:00   2.10  Unknown Customer     2.10  "
      ]
     },
     "execution_count": 21,
     "metadata": {},
     "output_type": "execute_result"
    }
   ],
   "source": [
    "df.tail()"
   ]
  },
  {
   "cell_type": "code",
   "execution_count": 27,
   "id": "b2bcc28a-2d9f-4a2b-b4fe-3f8ed8208f7f",
   "metadata": {},
   "outputs": [],
   "source": [
    "# 3 EDA"
   ]
  },
  {
   "cell_type": "code",
   "execution_count": 28,
   "id": "66e0b3bf-d494-4a4d-a3d9-476d2b79faf2",
   "metadata": {},
   "outputs": [],
   "source": [
    "# --- Statistik Deskriptif ---"
   ]
  },
  {
   "cell_type": "code",
   "execution_count": 29,
   "id": "cefccbb0-d8c3-4f6a-9d76-b1c70051a69f",
   "metadata": {},
   "outputs": [
    {
     "name": "stdout",
     "output_type": "stream",
     "text": [
      "\n",
      "Statistik Deskriptif:\n",
      "        order_id product_code                        product_name  \\\n",
      "count   443560.0       443560                              443560   \n",
      "unique   18369.0         4101                                4351   \n",
      "top     537434.0       85123A  WHITE HANGING HEART T-LIGHT HOLDER   \n",
      "freq       675.0         3068                                3105   \n",
      "mean         NaN          NaN                                 NaN   \n",
      "min          NaN          NaN                                 NaN   \n",
      "25%          NaN          NaN                                 NaN   \n",
      "50%          NaN          NaN                                 NaN   \n",
      "75%          NaN          NaN                                 NaN   \n",
      "max          NaN          NaN                                 NaN   \n",
      "std          NaN          NaN                                 NaN   \n",
      "\n",
      "             quantity                     order_date          price  \\\n",
      "count   443560.000000                         443560  443560.000000   \n",
      "unique            NaN                            NaN            NaN   \n",
      "top               NaN                            NaN            NaN   \n",
      "freq              NaN                            NaN            NaN   \n",
      "mean        10.071826  2010-07-23 16:31:09.984083200       4.232654   \n",
      "min          1.000000            2010-01-04 09:24:00       0.001000   \n",
      "25%          1.000000            2010-04-22 14:33:00       1.250000   \n",
      "50%          3.000000            2010-08-05 10:44:00       2.100000   \n",
      "75%         10.000000            2010-10-31 10:49:00       4.210000   \n",
      "max      10000.000000            2010-12-23 17:41:00   25111.090000   \n",
      "std         60.090739                            NaN      65.619622   \n",
      "\n",
      "             customer_id        revenue  \n",
      "count             443560  443560.000000  \n",
      "unique              3888            NaN  \n",
      "top     Unknown Customer            NaN  \n",
      "freq               97045            NaN  \n",
      "mean                 NaN      18.954618  \n",
      "min                  NaN       0.001000  \n",
      "25%                  NaN       3.750000  \n",
      "50%                  NaN       9.900000  \n",
      "75%                  NaN      17.400000  \n",
      "max                  NaN   25111.090000  \n",
      "std                  NaN      92.055898  \n"
     ]
    }
   ],
   "source": [
    "print(\"\\nStatistik Deskriptif:\")\n",
    "print(df.describe(include='all'))"
   ]
  },
  {
   "cell_type": "code",
   "execution_count": 30,
   "id": "c989a53a-e903-4d2c-960a-df2cd34603b7",
   "metadata": {},
   "outputs": [
    {
     "data": {
      "text/html": [
       "<style type=\"text/css\">\n",
       "</style>\n",
       "<table id=\"T_3e303\">\n",
       "  <caption>Statistik Deskriptif Dataset</caption>\n",
       "  <thead>\n",
       "    <tr>\n",
       "      <th class=\"blank level0\" >&nbsp;</th>\n",
       "      <th id=\"T_3e303_level0_col0\" class=\"col_heading level0 col0\" >quantity</th>\n",
       "      <th id=\"T_3e303_level0_col1\" class=\"col_heading level0 col1\" >order_date</th>\n",
       "      <th id=\"T_3e303_level0_col2\" class=\"col_heading level0 col2\" >price</th>\n",
       "      <th id=\"T_3e303_level0_col3\" class=\"col_heading level0 col3\" >revenue</th>\n",
       "    </tr>\n",
       "  </thead>\n",
       "  <tbody>\n",
       "    <tr>\n",
       "      <th id=\"T_3e303_level0_row0\" class=\"row_heading level0 row0\" >count</th>\n",
       "      <td id=\"T_3e303_row0_col0\" class=\"data row0 col0\" >443560.000000</td>\n",
       "      <td id=\"T_3e303_row0_col1\" class=\"data row0 col1\" >443560</td>\n",
       "      <td id=\"T_3e303_row0_col2\" class=\"data row0 col2\" >443560.000000</td>\n",
       "      <td id=\"T_3e303_row0_col3\" class=\"data row0 col3\" >443560.000000</td>\n",
       "    </tr>\n",
       "    <tr>\n",
       "      <th id=\"T_3e303_level0_row1\" class=\"row_heading level0 row1\" >mean</th>\n",
       "      <td id=\"T_3e303_row1_col0\" class=\"data row1 col0\" >10.071826</td>\n",
       "      <td id=\"T_3e303_row1_col1\" class=\"data row1 col1\" >2010-07-23 16:31:09.984083200</td>\n",
       "      <td id=\"T_3e303_row1_col2\" class=\"data row1 col2\" >4.232654</td>\n",
       "      <td id=\"T_3e303_row1_col3\" class=\"data row1 col3\" >18.954618</td>\n",
       "    </tr>\n",
       "    <tr>\n",
       "      <th id=\"T_3e303_level0_row2\" class=\"row_heading level0 row2\" >min</th>\n",
       "      <td id=\"T_3e303_row2_col0\" class=\"data row2 col0\" >1.000000</td>\n",
       "      <td id=\"T_3e303_row2_col1\" class=\"data row2 col1\" >2010-01-04 09:24:00</td>\n",
       "      <td id=\"T_3e303_row2_col2\" class=\"data row2 col2\" >0.001000</td>\n",
       "      <td id=\"T_3e303_row2_col3\" class=\"data row2 col3\" >0.001000</td>\n",
       "    </tr>\n",
       "    <tr>\n",
       "      <th id=\"T_3e303_level0_row3\" class=\"row_heading level0 row3\" >25%</th>\n",
       "      <td id=\"T_3e303_row3_col0\" class=\"data row3 col0\" >1.000000</td>\n",
       "      <td id=\"T_3e303_row3_col1\" class=\"data row3 col1\" >2010-04-22 14:33:00</td>\n",
       "      <td id=\"T_3e303_row3_col2\" class=\"data row3 col2\" >1.250000</td>\n",
       "      <td id=\"T_3e303_row3_col3\" class=\"data row3 col3\" >3.750000</td>\n",
       "    </tr>\n",
       "    <tr>\n",
       "      <th id=\"T_3e303_level0_row4\" class=\"row_heading level0 row4\" >50%</th>\n",
       "      <td id=\"T_3e303_row4_col0\" class=\"data row4 col0\" >3.000000</td>\n",
       "      <td id=\"T_3e303_row4_col1\" class=\"data row4 col1\" >2010-08-05 10:44:00</td>\n",
       "      <td id=\"T_3e303_row4_col2\" class=\"data row4 col2\" >2.100000</td>\n",
       "      <td id=\"T_3e303_row4_col3\" class=\"data row4 col3\" >9.900000</td>\n",
       "    </tr>\n",
       "    <tr>\n",
       "      <th id=\"T_3e303_level0_row5\" class=\"row_heading level0 row5\" >75%</th>\n",
       "      <td id=\"T_3e303_row5_col0\" class=\"data row5 col0\" >10.000000</td>\n",
       "      <td id=\"T_3e303_row5_col1\" class=\"data row5 col1\" >2010-10-31 10:49:00</td>\n",
       "      <td id=\"T_3e303_row5_col2\" class=\"data row5 col2\" >4.210000</td>\n",
       "      <td id=\"T_3e303_row5_col3\" class=\"data row5 col3\" >17.400000</td>\n",
       "    </tr>\n",
       "    <tr>\n",
       "      <th id=\"T_3e303_level0_row6\" class=\"row_heading level0 row6\" >max</th>\n",
       "      <td id=\"T_3e303_row6_col0\" class=\"data row6 col0\" >10000.000000</td>\n",
       "      <td id=\"T_3e303_row6_col1\" class=\"data row6 col1\" >2010-12-23 17:41:00</td>\n",
       "      <td id=\"T_3e303_row6_col2\" class=\"data row6 col2\" >25111.090000</td>\n",
       "      <td id=\"T_3e303_row6_col3\" class=\"data row6 col3\" >25111.090000</td>\n",
       "    </tr>\n",
       "    <tr>\n",
       "      <th id=\"T_3e303_level0_row7\" class=\"row_heading level0 row7\" >std</th>\n",
       "      <td id=\"T_3e303_row7_col0\" class=\"data row7 col0\" >60.090739</td>\n",
       "      <td id=\"T_3e303_row7_col1\" class=\"data row7 col1\" >nan</td>\n",
       "      <td id=\"T_3e303_row7_col2\" class=\"data row7 col2\" >65.619622</td>\n",
       "      <td id=\"T_3e303_row7_col3\" class=\"data row7 col3\" >92.055898</td>\n",
       "    </tr>\n",
       "  </tbody>\n",
       "</table>\n"
      ],
      "text/plain": [
       "<pandas.io.formats.style.Styler at 0x23e5907c050>"
      ]
     },
     "execution_count": 30,
     "metadata": {},
     "output_type": "execute_result"
    }
   ],
   "source": [
    "df.describe().style.set_caption(\"Statistik Deskriptif Dataset\")"
   ]
  },
  {
   "cell_type": "code",
   "execution_count": 32,
   "id": "5e4ab371-bd99-4f5e-8e1f-352ee00afeba",
   "metadata": {},
   "outputs": [],
   "source": [
    "# --- Distribusi quantity ---"
   ]
  },
  {
   "cell_type": "code",
   "execution_count": 42,
   "id": "15eb44ef-a45b-45b4-8278-e06d4762ac4a",
   "metadata": {},
   "outputs": [
    {
     "data": {
      "image/png": "[encoded data removed]",
      "text/plain": [
       "<Figure size 1000x500 with 1 Axes>"
      ]
     },
     "metadata": {},
     "output_type": "display_data"
    }
   ],
   "source": [
    "plt.figure(figsize=(10,5))\n",
    "sns.histplot(df['quantity'], bins=50, kde=False, stat=\"count\")\n",
    "plt.title(\"Distribusi Quantity (Frekuensi Transaksi)\")\n",
    "plt.xlabel(\"Quantity\")\n",
    "plt.ylabel(\"Frekuensi Transaksi\")\n",
    "plt.show()"
   ]
  },
  {
   "cell_type": "code",
   "execution_count": 40,
   "id": "8b0ac6c4-6750-4a50-98bb-18c7d2b23975",
   "metadata": {},
   "outputs": [
    {
     "data": {
      "image/png": "[encoded data removed]",
      "text/plain": [
       "<Figure size 1000x500 with 1 Axes>"
      ]
     },
     "metadata": {},
     "output_type": "display_data"
    }
   ],
   "source": [
    "plt.figure(figsize=(10,5))\n",
    "sns.histplot(df['price'], bins=50, kde=False, stat=\"count\")\n",
    "plt.title(\"Distribusi price\")\n",
    "plt.xlabel(\"Price\")\n",
    "plt.ylabel(\"Frekuensi\")\n",
    "plt.show()"
   ]
  },
  {
   "cell_type": "code",
   "execution_count": 43,
   "id": "503b1cf9-a021-498b-9c85-3841bd05abb8",
   "metadata": {},
   "outputs": [
    {
     "data": {
      "image/png": "[encoded data removed]",
      "text/plain": [
       "<Figure size 1000x500 with 1 Axes>"
      ]
     },
     "metadata": {},
     "output_type": "display_data"
    }
   ],
   "source": [
    "plt.figure(figsize=(10,5))\n",
    "sns.histplot(df['quantity'], bins=50, kde=False, stat=\"count\")\n",
    "plt.xscale('log')\n",
    "plt.title(\"Distribusi Quantity (Log Scale)\")\n",
    "plt.xlabel(\"Quantity (log scale)\")\n",
    "plt.ylabel(\"Frekuensi Transaksi\")\n",
    "plt.show()"
   ]
  },
  {
   "cell_type": "code",
   "execution_count": 52,
   "id": "7a063253-7647-49ae-8ba7-bb27c11cdb59",
   "metadata": {},
   "outputs": [],
   "source": [
    "# --- TOP 10 BEST SELLING PRODUCT ---"
   ]
  },
  {
   "cell_type": "code",
   "execution_count": 46,
   "id": "605e3200-96a1-46f3-bbb8-9f4d3823200d",
   "metadata": {},
   "outputs": [
    {
     "data": {
      "image/png": "[encoded data removed]",
      "text/plain": [
       "<Figure size 1200x500 with 1 Axes>"
      ]
     },
     "metadata": {},
     "output_type": "display_data"
    }
   ],
   "source": [
    "top_products = df.groupby('product_name')['quantity'].sum().sort_values(ascending=False).head(10)\n",
    "\n",
    "plt.figure(figsize=(12,5))\n",
    "sns.barplot(\n",
    "    x=top_products.values, \n",
    "    y=top_products.index,\n",
    "    hue=top_products.index,\n",
    "    palette=\"viridis\",\n",
    "    legend=False\n",
    ")\n",
    "plt.title(\" Top 10 Best Selling Products\")\n",
    "plt.xlabel(\"Total Quantity Sold\")\n",
    "plt.ylabel(\"Product name\")\n",
    "plt.show()"
   ]
  },
  {
   "cell_type": "code",
   "execution_count": 55,
   "id": "cba163f3-6331-4111-9043-b895e601b54d",
   "metadata": {},
   "outputs": [],
   "source": [
    "# --- TOP 10 CUSTOMER BY QUANTITY ---"
   ]
  },
  {
   "cell_type": "code",
   "execution_count": 53,
   "id": "b7acc06a-8eae-460d-9b09-9c42841a2c2b",
   "metadata": {},
   "outputs": [
    {
     "data": {
      "image/png": "[encoded data removed]",
      "text/plain": [
       "<Figure size 1200x500 with 1 Axes>"
      ]
     },
     "metadata": {},
     "output_type": "display_data"
    }
   ],
   "source": [
    "top_customers = df.groupby('customer_id')['quantity'].sum().sort_values(ascending=False).head(10)\n",
    "\n",
    "plt.figure(figsize=(12,5))\n",
    "sns.barplot(\n",
    "    x=top_customers.values, \n",
    "    y=top_customers.index,\n",
    "    hue=top_customers.index,\n",
    "    palette=\"mako\",\n",
    "    legend=False\n",
    ")\n",
    "plt.title(\" Top 10 Customer By Quantity\")\n",
    "plt.xlabel(\"Total Quantity Sold\")\n",
    "plt.ylabel(\"Customer ID\")\n",
    "plt.show()"
   ]
  },
  {
   "cell_type": "code",
   "execution_count": 56,
   "id": "46086172-e8fb-489e-b889-19051c9a1484",
   "metadata": {},
   "outputs": [],
   "source": [
    "# --- TOTAL COUNT ORDER PER MONTH ---"
   ]
  },
  {
   "cell_type": "code",
   "execution_count": 57,
   "id": "acc0fff0-29af-4cf1-bc10-6186bdcdba7f",
   "metadata": {},
   "outputs": [
    {
     "data": {
      "image/png": "[encoded data removed]",
      "text/plain": [
       "<Figure size 1200x500 with 1 Axes>"
      ]
     },
     "metadata": {},
     "output_type": "display_data"
    }
   ],
   "source": [
    "orders_by_month = df.groupby(df['order_date'].dt.to_period(\"M\"))['order_id'].nunique()\n",
    "\n",
    "plt.figure(figsize=(12,5))\n",
    "orders_by_month.plot(kind='line', marker='o')\n",
    "plt.title(\" Total count order per month\")\n",
    "plt.xlabel(\"Month\")\n",
    "plt.ylabel(\"Count of Order\")\n",
    "plt.show()"
   ]
  },
  {
   "cell_type": "code",
   "execution_count": null,
   "id": "31a05ace-8232-40b5-877d-0c35ef9a0041",
   "metadata": {},
   "outputs": [],
   "source": []
  }
 ],
 "metadata": {
  "kernelspec": {
   "display_name": "Python 3.13",
   "language": "python",
   "name": "python313"
  },
  "language_info": {
   "codemirror_mode": {
    "name": "ipython",
    "version": 3
   },
   "file_extension": ".py",
   "mimetype": "text/x-python",
   "name": "python",
   "nbconvert_exporter": "python",
   "pygments_lexer": "ipython3",
   "version": "3.13.7"
  }
 },
 "nbformat": 4,
 "nbformat_minor": 5
}
